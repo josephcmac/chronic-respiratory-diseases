{
 "cells": [
  {
   "cell_type": "markdown",
   "metadata": {},
   "source": [
    "## Example of Predictive Model"
   ]
  },
  {
   "cell_type": "code",
   "execution_count": null,
   "metadata": {},
   "outputs": [],
   "source": [
    "import pandas as pd\n",
    "import numpy as np\n",
    "import os\n",
    "from sklearn.ensemble import RandomForestRegressor"
   ]
  },
  {
   "cell_type": "code",
   "execution_count": null,
   "metadata": {},
   "outputs": [],
   "source": [
    "ROOT_PATH = pd.read_csv(\"ROOT_PATH.txt\").columns[0]\n",
    "PROCESSED_PATH = os.path.join(ROOT_PATH, \"datasets\", \"processed\")\n",
    "del(ROOT_PATH)\n",
    "file_path_train = os.path.join(PROCESSED_PATH, \"train.csv\")\n",
    "file_path_test = os.path.join(PROCESSED_PATH, \"test.csv\")\n",
    "file_path_sample_submission = os.path.join(PROCESSED_PATH, \"sample_submission.csv\")\n",
    "file_path_submission = os.path.join(PROCESSED_PATH, \"submission.csv\")"
   ]
  },
  {
   "cell_type": "code",
   "execution_count": null,
   "metadata": {},
   "outputs": [],
   "source": [
    "def read_supplementary(filename, parammeter):\n",
    "    file_path_supplementary_LEAD = os.path.join(PROCESSED_PATH, filename)\n",
    "    supplementary = pd.read_parquet(file_path_supplementary_LEAD)\n",
    "    supplementary = supplementary[supplementary['Parameter.Name'] == parammeter]\n",
    "    supplementary.drop([\"Parameter.Name\", \"X1st.Max.Value\"], axis=1, inplace=True)\n",
    "    supplementary['Date.Local'] = supplementary['Date.Local'].apply(lambda x: x.year)\n",
    "    supplementary.rename(columns={'Date.Local': 'Year', 'Arithmetic.Mean': parammeter}, inplace=True)\n",
    "    supplementary = pd.DataFrame(supplementary.groupby([\"State.Name\",\"Year\"])[parammeter].median())\n",
    "    return supplementary"
   ]
  },
  {
   "cell_type": "code",
   "execution_count": null,
   "metadata": {},
   "outputs": [],
   "source": [
    "def input_supplementary(input_data):\n",
    "    df = read_supplementary(input_data.iloc[0].file, input_data.iloc[0].parameter)\n",
    "    for i in range(1, input_data.shape[0]):\n",
    "        df1 = read_supplementary(input_data.iloc[i].file, input_data.iloc[i].parameter)\n",
    "        df = pd.merge(df, df1, on=[\"State.Name\", \"Year\"], how='outer')\n",
    "    return df"
   ]
  },
  {
   "cell_type": "code",
   "execution_count": null,
   "metadata": {},
   "outputs": [],
   "source": [
    "def supp_feature(supplementary, state, year, lag):\n",
    "    supplementary_state = supplementary[supplementary.index.get_level_values('State.Name') == state]\n",
    "    return pd.concat([pd.Series(index = ['State.Name', 'Year'], data = [state, year]), \n",
    "                    supplementary_state[(supplementary_state.index.get_level_values('Year') >= year-lag)&\n",
    "                               (supplementary_state.index.get_level_values('Year') <= year)] \\\n",
    "    .median()])"
   ]
  },
  {
   "cell_type": "code",
   "execution_count": null,
   "metadata": {},
   "outputs": [],
   "source": [
    "input_data = pd.DataFrame({\n",
    "    \"file\" : [\"supplementary_NONOxNOy.parquet\", \"supplementary_LEAD.parquet\", \"supplementary_VOCS.parquet\", \n",
    "              \"supplementary_VOCS.parquet\", \"supplementary_HAPS.parquet\",\n",
    "              \"supplementary_HAPS.parquet\"],\n",
    "    \"parameter\": [\"Nitric oxide (NO)\", \"Lead (TSP) STP\", \"Toluene\", \n",
    "                  \"Total NMOC (non-methane organic compound)\", \"Benzene\", \"Ethylene dichloride\"]\n",
    "})"
   ]
  },
  {
   "cell_type": "code",
   "execution_count": null,
   "metadata": {},
   "outputs": [],
   "source": [
    "supplementary = input_supplementary(input_data)"
   ]
  },
  {
   "cell_type": "code",
   "execution_count": null,
   "metadata": {},
   "outputs": [],
   "source": [
    "train = pd.read_csv(file_path_train)"
   ]
  },
  {
   "cell_type": "code",
   "execution_count": null,
   "metadata": {},
   "outputs": [],
   "source": [
    "locations = sorted(set(supplementary.index.map(lambda x: x[0])))"
   ]
  },
  {
   "cell_type": "code",
   "execution_count": null,
   "metadata": {},
   "outputs": [],
   "source": [
    "supplementary = pd.DataFrame([supp_feature(supplementary, loc, y, 10) for loc in locations\n",
    "                   for y in range(1990, 2019)])"
   ]
  },
  {
   "cell_type": "code",
   "execution_count": null,
   "metadata": {},
   "outputs": [],
   "source": [
    "train_supp = pd.merge(train, supplementary, on=[\"State.Name\", \"Year\"], how='left')\n",
    "del(train)\n",
    "del(locations)"
   ]
  },
  {
   "cell_type": "code",
   "execution_count": null,
   "metadata": {},
   "outputs": [],
   "source": [
    "y = train_supp['Incidence']"
   ]
  },
  {
   "cell_type": "code",
   "execution_count": null,
   "metadata": {},
   "outputs": [],
   "source": [
    "X = train_supp[list({'Nitric oxide (NO)',\n",
    "       'Lead (TSP) STP', 'Toluene',\n",
    "       'Total NMOC (non-methane organic compound)', 'Benzene',\n",
    "       'Ethylene dichloride'})]"
   ]
  },
  {
   "cell_type": "code",
   "execution_count": null,
   "metadata": {},
   "outputs": [],
   "source": [
    "del(train_supp)"
   ]
  },
  {
   "cell_type": "code",
   "execution_count": null,
   "metadata": {},
   "outputs": [],
   "source": [
    "X = X.interpolate(method=\"spline\", order=3)"
   ]
  },
  {
   "cell_type": "code",
   "execution_count": null,
   "metadata": {},
   "outputs": [],
   "source": [
    "model = RandomForestRegressor(n_estimators=100, random_state=42)"
   ]
  },
  {
   "cell_type": "code",
   "execution_count": null,
   "metadata": {},
   "outputs": [],
   "source": [
    "model.fit(X, y)"
   ]
  },
  {
   "cell_type": "code",
   "execution_count": null,
   "metadata": {},
   "outputs": [],
   "source": [
    "test = pd.read_csv(file_path_test)"
   ]
  },
  {
   "cell_type": "code",
   "execution_count": null,
   "metadata": {},
   "outputs": [],
   "source": [
    "test_supp = pd.merge(test, supplementary, on=[\"State.Name\", \"Year\"], how='left')\n",
    "del(test)"
   ]
  },
  {
   "cell_type": "code",
   "execution_count": null,
   "metadata": {},
   "outputs": [],
   "source": [
    "X = test_supp[list({'Nitric oxide (NO)',\n",
    "       'Lead (TSP) STP', 'Toluene',\n",
    "       'Total NMOC (non-methane organic compound)', 'Benzene',\n",
    "       'Ethylene dichloride'})]\n",
    "del(test_supp)"
   ]
  },
  {
   "cell_type": "code",
   "execution_count": null,
   "metadata": {},
   "outputs": [],
   "source": [
    "X = X.interpolate(method=\"spline\", order=3)"
   ]
  },
  {
   "cell_type": "code",
   "execution_count": null,
   "metadata": {},
   "outputs": [],
   "source": [
    "X = X.fillna(0)"
   ]
  },
  {
   "cell_type": "code",
   "execution_count": null,
   "metadata": {},
   "outputs": [],
   "source": [
    "submission = pd.read_csv(file_path_sample_submission)"
   ]
  },
  {
   "cell_type": "code",
   "execution_count": null,
   "metadata": {},
   "outputs": [],
   "source": [
    "submission['Incidence'] = model.predict(X)"
   ]
  },
  {
   "cell_type": "code",
   "execution_count": null,
   "metadata": {},
   "outputs": [],
   "source": [
    "submission.to_csv(file_path_submission, index=False)"
   ]
  }
 ],
 "metadata": {
  "kernelspec": {
   "display_name": "base",
   "language": "python",
   "name": "python3"
  },
  "language_info": {
   "codemirror_mode": {
    "name": "ipython",
    "version": 3
   },
   "file_extension": ".py",
   "mimetype": "text/x-python",
   "name": "python",
   "nbconvert_exporter": "python",
   "pygments_lexer": "ipython3",
   "version": "3.10.10"
  },
  "orig_nbformat": 4
 },
 "nbformat": 4,
 "nbformat_minor": 2
}
